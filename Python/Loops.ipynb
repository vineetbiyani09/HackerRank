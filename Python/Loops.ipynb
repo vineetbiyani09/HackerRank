{
  "nbformat": 4,
  "nbformat_minor": 0,
  "metadata": {
    "colab": {
      "name": "Loops.ipynb",
      "provenance": [],
      "authorship_tag": "ABX9TyNtZzwdDGx2zqU3GmMoiom7",
      "include_colab_link": true
    },
    "kernelspec": {
      "name": "python3",
      "display_name": "Python 3"
    }
  },
  "cells": [
    {
      "cell_type": "markdown",
      "metadata": {
        "id": "view-in-github",
        "colab_type": "text"
      },
      "source": [
        "<a href=\"https://colab.research.google.com/github/vineetbiyani09/HackerRank/blob/master/Python/Loops.ipynb\" target=\"_parent\"><img src=\"https://colab.research.google.com/assets/colab-badge.svg\" alt=\"Open In Colab\"/></a>"
      ]
    },
    {
      "cell_type": "code",
      "metadata": {
        "id": "fOO2XqUQKZkN"
      },
      "source": [
        "n = int(input(\"\"))\r\n",
        "if n>=1 and n<=20 :\r\n",
        "  for i in range(0,n):\r\n",
        "    print(i**2)"
      ],
      "execution_count": null,
      "outputs": []
    }
  ]
}