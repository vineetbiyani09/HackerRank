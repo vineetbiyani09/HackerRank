{
  "nbformat": 4,
  "nbformat_minor": 0,
  "metadata": {
    "colab": {
      "name": "Write_a_function.ipynb",
      "provenance": [],
      "authorship_tag": "ABX9TyNeju2OHwicPnM1yYISPDB/",
      "include_colab_link": true
    },
    "kernelspec": {
      "name": "python3",
      "display_name": "Python 3"
    }
  },
  "cells": [
    {
      "cell_type": "markdown",
      "metadata": {
        "id": "view-in-github",
        "colab_type": "text"
      },
      "source": [
        "<a href=\"https://colab.research.google.com/github/vineetbiyani09/HackerRank/blob/master/Python/Write_a_function.ipynb\" target=\"_parent\"><img src=\"https://colab.research.google.com/assets/colab-badge.svg\" alt=\"Open In Colab\"/></a>"
      ]
    },
    {
      "cell_type": "code",
      "metadata": {
        "id": "fOO2XqUQKZkN"
      },
      "source": [
        "def is_leap(year) :\r\n",
        "  if year>=1900 and year<=10**5 :\r\n",
        "    if (year%4 == 0 and year%100 != 0) or year%400 == 0 :\r\n",
        "      return True\r\n",
        "    else :\r\n",
        "      return False\r\n",
        "  else :\r\n",
        "    print(\"Error\")\r\n",
        "\r\n",
        "year = int(input(\"\"))\r\n",
        "is_leap(year)"
      ],
      "execution_count": null,
      "outputs": []
    }
  ]
}