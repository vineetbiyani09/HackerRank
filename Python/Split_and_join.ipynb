{
  "nbformat": 4,
  "nbformat_minor": 0,
  "metadata": {
    "colab": {
      "name": "Split_and_join.ipynb",
      "provenance": [],
      "authorship_tag": "ABX9TyPzYMBwg2onKOKbAyYOZ05k",
      "include_colab_link": true
    },
    "kernelspec": {
      "name": "python3",
      "display_name": "Python 3"
    }
  },
  "cells": [
    {
      "cell_type": "markdown",
      "metadata": {
        "id": "view-in-github",
        "colab_type": "text"
      },
      "source": [
        "<a href=\"https://colab.research.google.com/github/vineetbiyani09/HackerRank/blob/master/Python/Split_and_join.ipynb\" target=\"_parent\"><img src=\"https://colab.research.google.com/assets/colab-badge.svg\" alt=\"Open In Colab\"/></a>"
      ]
    },
    {
      "cell_type": "code",
      "metadata": {
        "id": "fOO2XqUQKZkN"
      },
      "source": [
        "def split_and_join(line):\r\n",
        "  line = line.split()\r\n",
        "  line = '-'.join(line)  \r\n",
        "  return line\r\n",
        "\r\n",
        "line = input(\"\")\r\n",
        "result = split_and_join(line)\r\n",
        "print(result)"
      ],
      "execution_count": null,
      "outputs": []
    }
  ]
}