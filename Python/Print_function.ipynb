{
  "nbformat": 4,
  "nbformat_minor": 0,
  "metadata": {
    "colab": {
      "name": "Print_function.ipynb",
      "provenance": [],
      "authorship_tag": "ABX9TyMKW//tv46TFmreefzAJNlg",
      "include_colab_link": true
    },
    "kernelspec": {
      "name": "python3",
      "display_name": "Python 3"
    }
  },
  "cells": [
    {
      "cell_type": "markdown",
      "metadata": {
        "id": "view-in-github",
        "colab_type": "text"
      },
      "source": [
        "<a href=\"https://colab.research.google.com/github/vineetbiyani09/HackerRank/blob/master/Python/Print_function.ipynb\" target=\"_parent\"><img src=\"https://colab.research.google.com/assets/colab-badge.svg\" alt=\"Open In Colab\"/></a>"
      ]
    },
    {
      "cell_type": "code",
      "metadata": {
        "id": "fOO2XqUQKZkN"
      },
      "source": [
        "n = int(input(\"\"))\r\n",
        "\r\n",
        "for i in range(1,n+1) :\r\n",
        "  print(i, end = '')"
      ],
      "execution_count": null,
      "outputs": []
    }
  ]
}