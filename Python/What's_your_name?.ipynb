{
  "nbformat": 4,
  "nbformat_minor": 0,
  "metadata": {
    "colab": {
      "name": "What's_your_name?.ipynb",
      "provenance": [],
      "authorship_tag": "ABX9TyO7jJadPsPFA5FYycq9d5fr",
      "include_colab_link": true
    },
    "kernelspec": {
      "name": "python3",
      "display_name": "Python 3"
    }
  },
  "cells": [
    {
      "cell_type": "markdown",
      "metadata": {
        "id": "view-in-github",
        "colab_type": "text"
      },
      "source": [
        "<a href=\"https://colab.research.google.com/github/vineetbiyani09/HackerRank/blob/master/Python/What's_your_name%3F.ipynb\" target=\"_parent\"><img src=\"https://colab.research.google.com/assets/colab-badge.svg\" alt=\"Open In Colab\"/></a>"
      ]
    },
    {
      "cell_type": "code",
      "metadata": {
        "id": "fOO2XqUQKZkN"
      },
      "source": [
        "def print_full_name(a, b):\r\n",
        "  if len(first_name)<=10 and len(last_name)<=10 :\r\n",
        "    print(\"Hello\",a,b + '!',\"You just delved into python.\")\r\n",
        "  else :\r\n",
        "    print(\"Error\")\r\n",
        "\r\n",
        "first_name = input(\"\")\r\n",
        "last_name = input(\"\")\r\n",
        "print_full_name(first_name, last_name)"
      ],
      "execution_count": null,
      "outputs": []
    }
  ]
}