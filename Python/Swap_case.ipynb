{
  "nbformat": 4,
  "nbformat_minor": 0,
  "metadata": {
    "colab": {
      "name": "Swap_case.ipynb",
      "provenance": [],
      "authorship_tag": "ABX9TyM0cu/H6TMEIduQz0vaYIHh",
      "include_colab_link": true
    },
    "kernelspec": {
      "name": "python3",
      "display_name": "Python 3"
    }
  },
  "cells": [
    {
      "cell_type": "markdown",
      "metadata": {
        "id": "view-in-github",
        "colab_type": "text"
      },
      "source": [
        "<a href=\"https://colab.research.google.com/github/vineetbiyani09/HackerRank/blob/master/Python/Swap_case.ipynb\" target=\"_parent\"><img src=\"https://colab.research.google.com/assets/colab-badge.svg\" alt=\"Open In Colab\"/></a>"
      ]
    },
    {
      "cell_type": "code",
      "metadata": {
        "id": "fOO2XqUQKZkN"
      },
      "source": [
        "def swap_case(s):\r\n",
        "  if len(s)>0 and len(s)<=1000 :\r\n",
        "    s = list(s)\r\n",
        "    final = list()\r\n",
        "    for letter in s :\r\n",
        "      if letter == letter.upper() :\r\n",
        "        letter = letter.lower()\r\n",
        "      else :\r\n",
        "        letter = letter.upper()\r\n",
        "      final.append(letter)\r\n",
        "    return ''.join(final)\r\n",
        "\r\n",
        "s = input(\"\")\r\n",
        "result = swap_case(s)\r\n",
        "print(result)"
      ],
      "execution_count": null,
      "outputs": []
    }
  ]
}