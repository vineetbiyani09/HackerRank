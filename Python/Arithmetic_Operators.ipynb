{
  "nbformat": 4,
  "nbformat_minor": 0,
  "metadata": {
    "colab": {
      "name": "Arithmetic_Operators.ipynb",
      "provenance": [],
      "authorship_tag": "ABX9TyNv6xmi/Me+lOY1N5fIan/u",
      "include_colab_link": true
    },
    "kernelspec": {
      "name": "python3",
      "display_name": "Python 3"
    }
  },
  "cells": [
    {
      "cell_type": "markdown",
      "metadata": {
        "id": "view-in-github",
        "colab_type": "text"
      },
      "source": [
        "<a href=\"https://colab.research.google.com/github/vineetbiyani09/HackerRank/blob/master/Python/Arithmetic_Operators.ipynb\" target=\"_parent\"><img src=\"https://colab.research.google.com/assets/colab-badge.svg\" alt=\"Open In Colab\"/></a>"
      ]
    },
    {
      "cell_type": "code",
      "metadata": {
        "id": "fOO2XqUQKZkN"
      },
      "source": [
        "a = int(input(\"\"))\r\n",
        "b = int(input(\"\"))\r\n",
        "if a>=1 and a<=10**10 and b>=1 and b<=10**10 :\r\n",
        "  print(a+b)\r\n",
        "  print(a-b)\r\n",
        "  print(a*b)\r\n",
        "else :\r\n",
        "  print(\"Error\")"
      ],
      "execution_count": null,
      "outputs": []
    }
  ]
}