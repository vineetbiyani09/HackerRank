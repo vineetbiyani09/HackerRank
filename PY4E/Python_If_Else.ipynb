{
  "nbformat": 4,
  "nbformat_minor": 0,
  "metadata": {
    "colab": {
      "name": "Python_If_Else.ipynb",
      "provenance": [],
      "authorship_tag": "ABX9TyM7UluX5x8wqEODCMyVzeLH",
      "include_colab_link": true
    },
    "kernelspec": {
      "name": "python3",
      "display_name": "Python 3"
    }
  },
  "cells": [
    {
      "cell_type": "markdown",
      "metadata": {
        "id": "view-in-github",
        "colab_type": "text"
      },
      "source": [
        "<a href=\"https://colab.research.google.com/github/vineetbiyani09/HackerRank/blob/master/PY4E/Python_If_Else.ipynb\" target=\"_parent\"><img src=\"https://colab.research.google.com/assets/colab-badge.svg\" alt=\"Open In Colab\"/></a>"
      ]
    },
    {
      "cell_type": "code",
      "metadata": {
        "id": "fOO2XqUQKZkN"
      },
      "source": [
        "n = int(input(\"Enter number: \"))\r\n",
        "if n>=1 and n<=100 :\r\n",
        "  if n%2 != 0 :\r\n",
        "    print(\"Weird\")\r\n",
        "  elif n%2 == 0 and n>=2 and n<=5 :\r\n",
        "    print(\"Not Weird\")\r\n",
        "  elif n%2 == 0 and n>=6 and n<=20 :\r\n",
        "    print(\"Weird\")\r\n",
        "  elif n%2 == 0 and n>=20 :\r\n",
        "    print(\"Not Weird\")\r\n",
        "else :\r\n",
        "  print(\"Error\")"
      ],
      "execution_count": null,
      "outputs": []
    }
  ]
}